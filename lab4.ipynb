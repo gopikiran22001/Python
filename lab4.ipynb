{
  "nbformat": 4,
  "nbformat_minor": 0,
  "metadata": {
    "colab": {
      "provenance": []
    },
    "kernelspec": {
      "name": "python3",
      "display_name": "Python 3"
    },
    "language_info": {
      "name": "python"
    }
  },
  "cells": [
    {
      "cell_type": "markdown",
      "source": [
        "Aim:Demonstrate a program to print the sum of the series 1/12+\n",
        "1/22+1/32 +……. +1/n2\n",
        ". where n is taken from the user.\n",
        "\n",
        "Program:"
      ],
      "metadata": {
        "id": "sAs_pAM0h1-3"
      }
    },
    {
      "cell_type": "code",
      "execution_count": null,
      "metadata": {
        "id": "_nvQCYjM9DXJ",
        "colab": {
          "base_uri": "https://localhost:8080/"
        },
        "outputId": "b66fc229-0ed2-45cb-c12b-d13e99ab4ee3"
      },
      "outputs": [
        {
          "output_type": "stream",
          "name": "stdout",
          "text": [
            "Enter a number:3\n",
            "1/1^2+1/2^2+1/3^2.....1/n^2= 1.3611111111111112\n"
          ]
        }
      ],
      "source": [
        "x=int(input(\"Enter a number:\"))\n",
        "sum=0\n",
        "for i in range(1,x+1):\n",
        "  sum+=1/i**2\n",
        "print(\"1/1^2+1/2^2+1/3^2.....1/n^2=\",sum)"
      ]
    },
    {
      "cell_type": "markdown",
      "source": [
        "Aim: Write a program to implement Sum of cubes of numbers from 1 to n using range ().\n",
        "\n",
        "Porgram:"
      ],
      "metadata": {
        "id": "QPJ31iBTh0a0"
      }
    },
    {
      "cell_type": "code",
      "source": [
        "n=int(input(\"Enter a number:\"))\n",
        "sum=0\n",
        "for i in range(1,n+1):\n",
        "  sum+=i**3\n",
        "print(\"Sum of Cubes=\",sum)"
      ],
      "metadata": {
        "colab": {
          "base_uri": "https://localhost:8080/"
        },
        "id": "K34X6sx7BdsL",
        "outputId": "1616ee9a-4977-4229-e91f-d1018894976a"
      },
      "execution_count": null,
      "outputs": [
        {
          "output_type": "stream",
          "name": "stdout",
          "text": [
            "Enter a number:6\n",
            "Sum of Cubes= 441\n"
          ]
        }
      ]
    },
    {
      "cell_type": "markdown",
      "source": [
        "Aim: Write a program to implement Sum Display the numbers in descending order using range ().\n",
        "\n",
        "\n",
        "Program:"
      ],
      "metadata": {
        "id": "PTCaUtwvifJR"
      }
    },
    {
      "cell_type": "code",
      "source": [
        "n=int(input(\"Enter a number:\"))\n",
        "for i in range(n,0,-1):\n",
        "  print(i,end=\" \")"
      ],
      "metadata": {
        "colab": {
          "base_uri": "https://localhost:8080/"
        },
        "id": "vXY3x2wCB9U2",
        "outputId": "28190c89-f554-41fc-e80c-b898a9c0ef4a"
      },
      "execution_count": null,
      "outputs": [
        {
          "output_type": "stream",
          "name": "stdout",
          "text": [
            "Enter a number:12\n",
            "12 11 10 9 8 7 6 5 4 3 2 1 "
          ]
        }
      ]
    },
    {
      "cell_type": "markdown",
      "source": [
        "Aim: Write a program to implement Sum of squares of even numbers from 1 to n using range ().\n",
        "\n",
        "Program:"
      ],
      "metadata": {
        "id": "QWkTIEHWix7r"
      }
    },
    {
      "cell_type": "code",
      "source": [
        "n=int(input(\"Enter a number:\"))\n",
        "sum=0\n",
        "for i in range(1,n+1):\n",
        "  if i%2==0:\n",
        "    sum+=i**2\n",
        "print(\"Sum of squares of even numbers:\",sum)"
      ],
      "metadata": {
        "colab": {
          "base_uri": "https://localhost:8080/"
        },
        "id": "BivPE9lSCgUZ",
        "outputId": "221df1e7-2131-4456-eac9-deb34292665b"
      },
      "execution_count": null,
      "outputs": [
        {
          "output_type": "stream",
          "name": "stdout",
          "text": [
            "Enter a number:10\n",
            "Sum of sqyares of even numbers: 220\n"
          ]
        }
      ]
    },
    {
      "cell_type": "markdown",
      "source": [
        "Aim: Write a program to implement Display all leap years from 2000 – 2200 using range ().\n",
        "\n",
        "program:"
      ],
      "metadata": {
        "id": "k2eMWdlTjBtk"
      }
    },
    {
      "cell_type": "code",
      "source": [
        "for i in range(2000,2201):\n",
        "  if (i%4==0 and i%100!=0) or i%400==0:\n",
        "    print(i,end=\" \")"
      ],
      "metadata": {
        "colab": {
          "base_uri": "https://localhost:8080/"
        },
        "id": "gEe_f7oADBkF",
        "outputId": "1528a84e-c79d-4f9e-d5b9-fa78013e5f3d"
      },
      "execution_count": null,
      "outputs": [
        {
          "output_type": "stream",
          "name": "stdout",
          "text": [
            "2000 2004 2008 2012 2016 2020 2024 2028 2032 2036 2040 2044 2048 2052 2056 2060 2064 2068 2072 2076 2080 2084 2088 2092 2096 2104 2108 2112 2116 2120 2124 2128 2132 2136 2140 2144 2148 2152 2156 2160 2164 2168 2172 2176 2180 2184 2188 2192 2196 "
          ]
        }
      ]
    },
    {
      "cell_type": "markdown",
      "source": [
        "Aim: Write a program to print the below patterns:\n",
        "1\n",
        "2 3\n",
        "4 5 6\n",
        "7 8 9 10\n",
        "11 12 13 14 15\n",
        "16 17 18 19 20 21\n",
        "\n",
        "\n",
        "Program:\n",
        "\n"
      ],
      "metadata": {
        "id": "JxDBi9tKjNxX"
      }
    },
    {
      "cell_type": "code",
      "source": [
        "n=int(input(\"Enter a number:\"))\n",
        "num=1\n",
        "for i in range(1,n+1):\n",
        "  for j in range(i):\n",
        "    print(num,end=\" \")\n",
        "    num+=1\n",
        "  print()"
      ],
      "metadata": {
        "colab": {
          "base_uri": "https://localhost:8080/"
        },
        "id": "jXRgJm30DSw0",
        "outputId": "ba397964-f336-409e-b373-90569cce137c"
      },
      "execution_count": null,
      "outputs": [
        {
          "output_type": "stream",
          "name": "stdout",
          "text": [
            "Enter a number:10\n",
            "1 \n",
            "2 3 \n",
            "4 5 6 \n",
            "7 8 9 10 \n",
            "11 12 13 14 15 \n",
            "16 17 18 19 20 21 \n",
            "22 23 24 25 26 27 28 \n",
            "29 30 31 32 33 34 35 36 \n",
            "37 38 39 40 41 42 43 44 45 \n",
            "46 47 48 49 50 51 52 53 54 55 \n"
          ]
        }
      ]
    },
    {
      "cell_type": "markdown",
      "source": [
        "Aim: Write a program to print the below patterns:\n",
        "\n",
        "1\n",
        "2 1\n",
        "3 2 1\n",
        "4 3 2 1\n",
        "5 4 3 2 1\n",
        "\n",
        "\n",
        "Program:\n"
      ],
      "metadata": {
        "id": "kV8at7M3jiCU"
      }
    },
    {
      "cell_type": "code",
      "source": [
        "n=int(input(\"Enter a number:\"))\n",
        "for i in range(1,n+1):\n",
        "  for j in range(i,0,-1):\n",
        "    print(j,end=\" \")\n",
        "  print()"
      ],
      "metadata": {
        "colab": {
          "base_uri": "https://localhost:8080/"
        },
        "id": "mVHRPbwRDkFZ",
        "outputId": "4b9dbb20-8abc-431f-c977-fcbf16fe7bd5"
      },
      "execution_count": null,
      "outputs": [
        {
          "output_type": "stream",
          "name": "stdout",
          "text": [
            "Enter a number:15\n",
            "1 \n",
            "2 1 \n",
            "3 2 1 \n",
            "4 3 2 1 \n",
            "5 4 3 2 1 \n",
            "6 5 4 3 2 1 \n",
            "7 6 5 4 3 2 1 \n",
            "8 7 6 5 4 3 2 1 \n",
            "9 8 7 6 5 4 3 2 1 \n",
            "10 9 8 7 6 5 4 3 2 1 \n",
            "11 10 9 8 7 6 5 4 3 2 1 \n",
            "12 11 10 9 8 7 6 5 4 3 2 1 \n",
            "13 12 11 10 9 8 7 6 5 4 3 2 1 \n",
            "14 13 12 11 10 9 8 7 6 5 4 3 2 1 \n",
            "15 14 13 12 11 10 9 8 7 6 5 4 3 2 1 \n"
          ]
        }
      ]
    },
    {
      "cell_type": "markdown",
      "source": [],
      "metadata": {
        "id": "xhZ6XRDACNBE"
      }
    },
    {
      "cell_type": "markdown",
      "source": [
        "Aim: Write a program to print the below patterns:\n",
        "\n",
        "5 4 3 2 1\n",
        "4 3 2 1\n",
        "3 2 1\n",
        "2 1\n",
        "1\n",
        "\n",
        "Program:"
      ],
      "metadata": {
        "id": "76EOaLl2jtyH"
      }
    },
    {
      "cell_type": "code",
      "source": [
        "n=int(input(\"Enter a number:\"))\n",
        "for i in range(n,0,-1):\n",
        "  for j in range(i,0,-1):\n",
        "    print(j,end=\" \")\n",
        "  print()"
      ],
      "metadata": {
        "colab": {
          "base_uri": "https://localhost:8080/"
        },
        "id": "G-SgUvmtD1i3",
        "outputId": "f2be0cbc-bed9-4d46-fdd8-3ccb06a96a1b"
      },
      "execution_count": null,
      "outputs": [
        {
          "output_type": "stream",
          "name": "stdout",
          "text": [
            "Enter a number:10\n",
            "10 9 8 7 6 5 4 3 2 1 \n",
            "9 8 7 6 5 4 3 2 1 \n",
            "8 7 6 5 4 3 2 1 \n",
            "7 6 5 4 3 2 1 \n",
            "6 5 4 3 2 1 \n",
            "5 4 3 2 1 \n",
            "4 3 2 1 \n",
            "3 2 1 \n",
            "2 1 \n",
            "1 \n"
          ]
        }
      ]
    },
    {
      "cell_type": "markdown",
      "source": [
        "Aim: Write a program to print the below pattern\n",
        "    *\n",
        "   * *\n",
        "  * * *\n",
        " * * * *\n",
        "* * * * *\n",
        "\n",
        "Program:\n",
        "\n",
        "\n"
      ],
      "metadata": {
        "id": "QPgOFIusj1I1"
      }
    },
    {
      "cell_type": "code",
      "source": [
        "n=int(input(\"Enter a number:\"))\n",
        "for i in range(1,n+1):\n",
        "  for k in range(n- i):\n",
        "    print(end=\" \")\n",
        "  for j in range(i):\n",
        "    print(\"*\",end=\" \")\n",
        "  print()"
      ],
      "metadata": {
        "colab": {
          "base_uri": "https://localhost:8080/"
        },
        "id": "yxtdY3DQETnn",
        "outputId": "bb638c01-9d14-4221-ad20-9e10d5908bcc"
      },
      "execution_count": null,
      "outputs": [
        {
          "output_type": "stream",
          "name": "stdout",
          "text": [
            "Enter a number:10\n",
            "         * \n",
            "        * * \n",
            "       * * * \n",
            "      * * * * \n",
            "     * * * * * \n",
            "    * * * * * * \n",
            "   * * * * * * * \n",
            "  * * * * * * * * \n",
            " * * * * * * * * * \n",
            "* * * * * * * * * * \n"
          ]
        }
      ]
    },
    {
      "cell_type": "markdown",
      "source": [
        "Aim: Write a program to print the below pattern\n",
        "\n",
        "          1\n",
        "        1 2\n",
        "      1 2 3\n",
        "    1 2 3 4\n",
        "  1 2 3 4 5\n",
        "\n",
        "program:"
      ],
      "metadata": {
        "id": "k3SjpAWXkDnA"
      }
    },
    {
      "cell_type": "code",
      "source": [
        "n=int(input(\"Enter a number:\"))\n",
        "for i in range(1,n+1):\n",
        "  for k in range(n-i):\n",
        "    print(\" \",end=\" \")\n",
        "  for j in range(i):\n",
        "    print(j+1,end=\" \")\n",
        "  print()"
      ],
      "metadata": {
        "colab": {
          "base_uri": "https://localhost:8080/"
        },
        "id": "tFaHdVyxHbQ3",
        "outputId": "4cb55c75-5333-4267-f18d-f68f1affd770"
      },
      "execution_count": null,
      "outputs": [
        {
          "output_type": "stream",
          "name": "stdout",
          "text": [
            "Enter a number:10\n",
            "                  1 \n",
            "                1 2 \n",
            "              1 2 3 \n",
            "            1 2 3 4 \n",
            "          1 2 3 4 5 \n",
            "        1 2 3 4 5 6 \n",
            "      1 2 3 4 5 6 7 \n",
            "    1 2 3 4 5 6 7 8 \n",
            "  1 2 3 4 5 6 7 8 9 \n",
            "1 2 3 4 5 6 7 8 9 10 \n"
          ]
        }
      ]
    },
    {
      "cell_type": "code",
      "source": [
        "n=9\n",
        "for i in range(n):\n",
        "  for j in range(n):\n",
        "    if i==0 or j==0 or j==n-1 or i==n-1 :\n",
        "      print(\"*\",end=\" \")\n",
        "    else:\n",
        "      print(end=\" \")\n",
        "  print()"
      ],
      "metadata": {
        "colab": {
          "base_uri": "https://localhost:8080/"
        },
        "id": "zkF2NxvXJPQh",
        "outputId": "d3b8c9ef-36bb-4197-8f00-035d129cc993"
      },
      "execution_count": null,
      "outputs": [
        {
          "output_type": "stream",
          "name": "stdout",
          "text": [
            "* * * * * * * * * \n",
            "*        * \n",
            "*        * \n",
            "*        * \n",
            "*        * \n",
            "*        * \n",
            "*        * \n",
            "*        * \n",
            "* * * * * * * * * \n"
          ]
        }
      ]
    }
  ]
}