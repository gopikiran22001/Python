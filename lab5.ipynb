{
  "nbformat": 4,
  "nbformat_minor": 0,
  "metadata": {
    "colab": {
      "provenance": []
    },
    "kernelspec": {
      "name": "python3",
      "display_name": "Python 3"
    },
    "language_info": {
      "name": "python"
    }
  },
  "cells": [
    {
      "cell_type": "markdown",
      "source": [
        "Aim:Write a python program input and add two integers only and handle the exceptions.\n",
        "\n",
        "\n",
        "Program:\n"
      ],
      "metadata": {
        "id": "hR_6VNLYFcjc"
      }
    },
    {
      "cell_type": "code",
      "execution_count": null,
      "metadata": {
        "colab": {
          "base_uri": "https://localhost:8080/"
        },
        "id": "IJllScekCvOC",
        "outputId": "a636b119-3adf-4ae4-fe2b-9b0aa8a011c0"
      },
      "outputs": [
        {
          "output_type": "stream",
          "name": "stdout",
          "text": [
            "Enter First Number:3\n",
            "Enter Second Number:3\n",
            "Sum of 3 and 3 = 6\n"
          ]
        }
      ],
      "source": [
        "while True:\n",
        "    try:\n",
        "        x=int(input(\"Enter First Number:\"))\n",
        "        break;\n",
        "    except ValueError:\n",
        "        print(\"Enter Integer Only...\")\n",
        "while True:\n",
        "    try:\n",
        "        y=int(input(\"Enter Second Number:\"))\n",
        "        break;\n",
        "    except ValueError:\n",
        "        print(\"Enter Integer Only...\")\n",
        "s=x+y\n",
        "print(f\"Sum of {x} and {y} = {s}\")"
      ]
    },
    {
      "cell_type": "markdown",
      "source": [
        "Aim:Create a  library with functions to input the values with exception handling in python.\n",
        "\n",
        "Library Program:"
      ],
      "metadata": {
        "id": "Rn0beQcJFbgs"
      }
    },
    {
      "cell_type": "code",
      "source": [
        "def getInt(msg):\n",
        "    while True:\n",
        "        try:\n",
        "            x=int(input(msg))\n",
        "            return x\n",
        "        except ValueError:\n",
        "            print(\"Enter Integer Only...\")\n",
        "def getFloat(msg):\n",
        "    while True:\n",
        "        try:\n",
        "            x=float(input(msg))\n",
        "            return x\n",
        "        except ValueError:\n",
        "            print(\"Enter Integer Only...\")\n"
      ],
      "metadata": {
        "id": "wVNcF7ooEOwE"
      },
      "execution_count": null,
      "outputs": []
    },
    {
      "cell_type": "markdown",
      "source": [
        "Main Program:"
      ],
      "metadata": {
        "id": "ftI1x40cl1KA"
      }
    },
    {
      "cell_type": "code",
      "source": [
        "import lib\n",
        "x=lib.getInt(\"Enter First Number:\")\n",
        "y=lib.getInt(\"Enter Second Number:\")\n",
        "s=x+y\n",
        "print(f\"Sum of {x} and {y} = {s}\")\n"
      ],
      "metadata": {
        "id": "vtI_Bns7FlpG"
      },
      "execution_count": null,
      "outputs": []
    },
    {
      "cell_type": "markdown",
      "source": [
        "Output:\n",
        "Enter First Number:10\n",
        "Enter Second Number:20\n",
        "Sum of 10 and 20 = 30"
      ],
      "metadata": {
        "id": "HWKhSC8ul4lc"
      }
    }
  ]
}